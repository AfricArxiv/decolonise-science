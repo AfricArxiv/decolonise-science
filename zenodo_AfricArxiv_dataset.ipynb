{
  "nbformat": 4,
  "nbformat_minor": 0,
  "metadata": {
    "colab": {
      "name": "zenodo-AfricArxiv-dataset.ipynb",
      "provenance": [],
      "authorship_tag": "ABX9TyP7SFyLwkJ/yC23UtZzy/Ff",
      "include_colab_link": true
    },
    "kernelspec": {
      "name": "python3",
      "display_name": "Python 3"
    },
    "language_info": {
      "name": "python"
    }
  },
  "cells": [
    {
      "cell_type": "markdown",
      "metadata": {
        "id": "view-in-github",
        "colab_type": "text"
      },
      "source": [
        "<a href=\"https://colab.research.google.com/github/AfricArxiv/decolonising-academia/blob/master/zenodo_AfricArxiv_dataset.ipynb\" target=\"_parent\"><img src=\"https://colab.research.google.com/assets/colab-badge.svg\" alt=\"Open In Colab\"/></a>"
      ]
    },
    {
      "cell_type": "code",
      "metadata": {
        "id": "-T2NYNBV2msE"
      },
      "source": [
        "\n",
        "import requests\n",
        "response = requests.get('https://zenodo.org/api/deposit/depositions/communities/africarxiv/',\n",
        "                        params={'q': 'my title',\n",
        "                                '5rzLt48t0UOC0vVVvjFBHsWOrvCjvnEs5I6y1WBJ60zvGAXJfeHuzSP2JQo2'})\n",
        "print(response.json())\n",
        "\n",
        "\n"
      ],
      "execution_count": null,
      "outputs": []
    }
  ]
}