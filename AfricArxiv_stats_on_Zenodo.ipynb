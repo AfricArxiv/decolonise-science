{
  "nbformat": 4,
  "nbformat_minor": 0,
  "metadata": {
    "colab": {
      "name": "Zenodo-AfricArxiv",
      "provenance": [],
      "collapsed_sections": []
    },
    "kernelspec": {
      "name": "python3",
      "display_name": "Python 3"
    },
    "language_info": {
      "name": "python"
    }
  },
  "cells": [
    {
      "cell_type": "markdown",
      "source": [
        "## [Decolonise Science's Metadata extraction](https://github.com/AfricArxiv/decolonise-science/wiki/Metadata-extraction)\n",
        "\n",
        "I adapted the `zenodo-community-stats.sh`  .. to work on Colab."
      ],
      "metadata": {
        "id": "j3bn4xIgivXi"
      }
    },
    {
      "cell_type": "markdown",
      "source": [
        "Just run all the cells below to the end to get your extracted CSV file "
      ],
      "metadata": {
        "id": "UJFg3X2hjz_9"
      }
    },
    {
      "cell_type": "code",
      "source": [
        "! sudo apt-get install curl jq"
      ],
      "metadata": {
        "id": "HVFOupqVc6ZL",
        "colab": {
          "base_uri": "https://localhost:8080/"
        },
        "outputId": "1cb75c01-c0a8-4105-fc21-feeaaaf9208e"
      },
      "execution_count": 1,
      "outputs": [
        {
          "output_type": "stream",
          "name": "stdout",
          "text": [
            "Reading package lists... Done\n",
            "Building dependency tree       \n",
            "Reading state information... Done\n",
            "curl is already the newest version (7.58.0-2ubuntu3.17).\n",
            "The following packages were automatically installed and are no longer required:\n",
            "  libnvidia-common-460 nsight-compute-2020.2.0\n",
            "Use 'sudo apt autoremove' to remove them.\n",
            "The following additional packages will be installed:\n",
            "  libjq1 libonig4\n",
            "The following NEW packages will be installed:\n",
            "  jq libjq1 libonig4\n",
            "0 upgraded, 3 newly installed, 0 to remove and 42 not upgraded.\n",
            "Need to get 276 kB of archives.\n",
            "After this operation, 930 kB of additional disk space will be used.\n",
            "Get:1 http://archive.ubuntu.com/ubuntu bionic/universe amd64 libonig4 amd64 6.7.0-1 [119 kB]\n",
            "Get:2 http://archive.ubuntu.com/ubuntu bionic/universe amd64 libjq1 amd64 1.5+dfsg-2 [111 kB]\n",
            "Get:3 http://archive.ubuntu.com/ubuntu bionic/universe amd64 jq amd64 1.5+dfsg-2 [45.6 kB]\n",
            "Fetched 276 kB in 0s (894 kB/s)\n",
            "debconf: unable to initialize frontend: Dialog\n",
            "debconf: (No usable dialog-like program is installed, so the dialog based frontend cannot be used. at /usr/share/perl5/Debconf/FrontEnd/Dialog.pm line 76, <> line 3.)\n",
            "debconf: falling back to frontend: Readline\n",
            "debconf: unable to initialize frontend: Readline\n",
            "debconf: (This frontend requires a controlling tty.)\n",
            "debconf: falling back to frontend: Teletype\n",
            "dpkg-preconfigure: unable to re-open stdin: \n",
            "Selecting previously unselected package libonig4:amd64.\n",
            "(Reading database ... 155203 files and directories currently installed.)\n",
            "Preparing to unpack .../libonig4_6.7.0-1_amd64.deb ...\n",
            "Unpacking libonig4:amd64 (6.7.0-1) ...\n",
            "Selecting previously unselected package libjq1:amd64.\n",
            "Preparing to unpack .../libjq1_1.5+dfsg-2_amd64.deb ...\n",
            "Unpacking libjq1:amd64 (1.5+dfsg-2) ...\n",
            "Selecting previously unselected package jq.\n",
            "Preparing to unpack .../jq_1.5+dfsg-2_amd64.deb ...\n",
            "Unpacking jq (1.5+dfsg-2) ...\n",
            "Setting up libonig4:amd64 (6.7.0-1) ...\n",
            "Setting up libjq1:amd64 (1.5+dfsg-2) ...\n",
            "Setting up jq (1.5+dfsg-2) ...\n",
            "Processing triggers for man-db (2.8.3-2ubuntu0.1) ...\n",
            "Processing triggers for libc-bin (2.27-3ubuntu1.3) ...\n",
            "/sbin/ldconfig.real: /usr/local/lib/python3.7/dist-packages/ideep4py/lib/libmkldnn.so.0 is not a symbolic link\n",
            "\n"
          ]
        }
      ]
    },
    {
      "cell_type": "markdown",
      "source": [
        "We are using Python to set the variables because they do not get recognized just using `!`.\n",
        "\n",
        "If you want to change the name of your extracted file, change the vairable `FILENAME`."
      ],
      "metadata": {
        "id": "4ZsI6v-lkn62"
      }
    },
    {
      "cell_type": "code",
      "source": [
        "import os\n",
        "from datetime import datetime\n",
        "\n",
        "# current date and time\n",
        "curDT = datetime.now()\n",
        "# current date\n",
        "date = curDT.strftime(\"%Y-%m-%d\")\n",
        "# creating the date object of today's date\n",
        "os.environ[\"date\"] =  date\n",
        "# Change below for your filename\n",
        "FILENAME = f\"lanafric_zenodo-extract_{date}\"\n",
        "os.environ[\"filename\"] = FILENAME"
      ],
      "metadata": {
        "id": "Lro4qUolg5ZD"
      },
      "execution_count": 2,
      "outputs": []
    },
    {
      "cell_type": "code",
      "source": [
        "# To use this script you need to have \"curl\" and \"jq\" installed.\n",
        "\n",
        "# Download all records (including multiple versions) from the community (max 10k records)\n",
        "!curl \"https://zenodo.org/api/records/?page=1&size=10000&q=&all_versions=true&communities=africarxiv\" > zenodo-resp.json"
      ],
      "metadata": {
        "colab": {
          "base_uri": "https://localhost:8080/"
        },
        "id": "D_Mwjmeamd7n",
        "outputId": "f9ce80cc-3f27-4b2c-aeaa-8ba91f116dba"
      },
      "execution_count": 3,
      "outputs": [
        {
          "output_type": "stream",
          "name": "stdout",
          "text": [
            "  % Total    % Received % Xferd  Average Speed   Time    Time     Time  Current\n",
            "                                 Dload  Upload   Total   Spent    Left  Speed\n",
            "100 96874  100 96874    0     0  45933      0  0:00:02  0:00:02 --:--:-- 45933\n"
          ]
        }
      ]
    },
    {
      "cell_type": "code",
      "execution_count": null,
      "metadata": {
        "colab": {
          "base_uri": "https://localhost:8080/"
        },
        "id": "ntiiwu88ckUr",
        "outputId": "97359765-2a6d-4f10-c4cd-38dc0477e705"
      },
      "outputs": [
        {
          "output_type": "stream",
          "name": "stdout",
          "text": [
            "  % Total    % Received % Xferd  Average Speed   Time    Time     Time  Current\n",
            "                                 Dload  Upload   Total   Spent    Left  Speed\n",
            "100  864k  100  864k    0     0   187k      0  0:00:04  0:00:04 --:--:--  211k\n"
          ]
        }
      ],
      "source": [
        "\n",
        "# Create CSV file header\n",
        "!echo \"URL,DOI,Title,Abstract,Views,Downloads,Author,Affiliation,ORCID,Created,Updated,License,Keywords\" > \"${filename}.csv\"\n",
        "# Process response and append to CSV file\n",
        "# Take first author information, parse timestamps, join keywords into a single string if array\n",
        "!jq -r '.hits.hits[] | [.links.self, .metadata.doi, .metadata.title, .metadata.description, .stats.views, .stats.downloads, .metadata.creators[0].name, .metadata.creators[0].affiliation, .metadata.creators[0].orcid, (.created | split(\".\")[0] + \"Z\" | fromdate | strftime(\"%Y-%m-%d\")), (.updated | split(\".\")[0] + \"Z\" | fromdate | strftime(\"%Y-%m-%d\")), .metadata.license.id, (.metadata.keywords | if type == \"array\" then join(\", \") else . end)] | @csv' zenodo-resp.json >> \"${filename}.csv\"\n",
        "\n",
        "# Add Excel UTF-8 BOM to CSV file\n",
        "!echo -ne \"\\xEF\\xBB\\xBF\" | cat - \"${filename}.csv\" > temp.csv && mv temp.csv \"${filename}.csv\"\n"
      ]
    }
  ]
}